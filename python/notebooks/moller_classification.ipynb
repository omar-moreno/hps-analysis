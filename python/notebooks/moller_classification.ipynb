{
 "cells": [
  {
   "cell_type": "markdown",
   "metadata": {},
   "source": [
    "# Classifying Moller Events\n",
    "\n",
    "In quantum field theory, electron-electron scattering is known as Moller scattering.\n",
    "\n",
    "## Data Set\n",
    "\n",
    "* 5772"
   ]
  },
  {
   "cell_type": "code",
   "execution_count": null,
   "metadata": {
    "collapsed": true
   },
   "outputs": [],
   "source": [
    "# This allows matplotlib plots to be shown inline\n",
    "%matplotlib inline\n",
    "\n",
    "#\n",
    "import numpy as np\n",
    "import root_numpy as rnp\n",
    "import matplotlib.pyplot as plt\n",
    "\n",
    "# Open a ROOT file and create a record array out of the ROOT tree\n",
    "X_rec = rnp.root2array(\"hps_005772.0_dst_20151010092742126_preprocessed_signal.root\")\n",
    "\n",
    "# Convert the data into an array so it can be used by scikit-learn\n",
    "X = rnp.rec2array(X_rec)\n",
    "print len(X)\n",
    "print X\n",
    "\n",
    "# Create the data labels\n",
    "y = np.ones(len(X))\n",
    "print len(y)"
   ]
  },
  {
   "cell_type": "code",
   "execution_count": null,
   "metadata": {
    "collapsed": true
   },
   "outputs": [],
   "source": [
    "# Plot the energy of the highest energy cluster in the event\n",
    "cluster_pair_energy_high = X_rec['cluster_pair_energy_high']\n",
    "plt.hist(cluster_pair_energy_high, 10, normed=1, facecolor='green', alpha=0.5)"
   ]
  },
  {
   "cell_type": "markdown",
   "metadata": {},
   "source": [
    "# Decision Tree"
   ]
  },
  {
   "cell_type": "code",
   "execution_count": null,
   "metadata": {
    "collapsed": true
   },
   "outputs": [],
   "source": [
    "from sklearn import tree"
   ]
  },
  {
   "cell_type": "code",
   "execution_count": null,
   "metadata": {
    "collapsed": true
   },
   "outputs": [],
   "source": [
    "tree_clf = tree.DecisionTreeClassifier()"
   ]
  },
  {
   "cell_type": "code",
   "execution_count": null,
   "metadata": {
    "collapsed": false
   },
   "outputs": [],
   "source": [
    "tree_clf.fit(X, y)"
   ]
  },
  {
   "cell_type": "markdown",
   "metadata": {},
   "source": [
    "# Neural Network"
   ]
  },
  {
   "cell_type": "code",
   "execution_count": null,
   "metadata": {
    "collapsed": true
   },
   "outputs": [],
   "source": []
  }
 ],
 "metadata": {
  "kernelspec": {
   "display_name": "Python 2",
   "language": "python",
   "name": "python2"
  },
  "language_info": {
   "codemirror_mode": {
    "name": "ipython",
    "version": 2
   },
   "file_extension": ".py",
   "mimetype": "text/x-python",
   "name": "python",
   "nbconvert_exporter": "python",
   "pygments_lexer": "ipython2",
   "version": "2.7.10"
  }
 },
 "nbformat": 4,
 "nbformat_minor": 0
}
