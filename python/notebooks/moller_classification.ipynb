{
 "cells": [
  {
   "cell_type": "markdown",
   "metadata": {},
   "source": [
    "# Classifying Moller Events\n",
    "\n",
    "In quantum field theory, electron-electron scattering is known as Moller scattering.\n",
    "\n",
    "## Data Set\n",
    "\n",
    "* Signal: mollers\n",
    "* Background: beam-bkg"
   ]
  },
  {
   "cell_type": "markdown",
   "metadata": {},
   "source": [
    "# Signal Plots"
   ]
  },
  {
   "cell_type": "code",
   "execution_count": 71,
   "metadata": {
    "collapsed": false
   },
   "outputs": [
    {
     "name": "stdout",
     "output_type": "stream",
     "text": [
      "713\n",
      "[[   0.93755502    1.03832614  -41.20615387  -60.71886063]\n",
      " [   0.18132339    1.03695023   39.65115738  -38.87403107]\n",
      " [   0.48569825    0.46937919  -96.98955536  -80.80778503]\n",
      " ..., \n",
      " [   0.2841346     0.61386228  -15.7781744    13.17656803]\n",
      " [   0.15361139    0.35489503 -150.6410675    47.54259109]\n",
      " [   0.44935456    0.58948928  -74.58401489  -85.93288422]]\n",
      "713\n"
     ]
    }
   ],
   "source": [
    "# This allows matplotlib plots to be shown inline\n",
    "%matplotlib inline\n",
    "\n",
    "# \n",
    "import numpy as np\n",
    "import root_numpy as rnp\n",
    "import matplotlib.pyplot as plt\n",
    "\n",
    "# Open a ROOT file and create a record array out of the ROOT tree\n",
    "X_rec = rnp.root2array(\"hps_005772.0_dst_20151010092742126_preprocessed_signal.root\")\n",
    "\n",
    "# Convert the data into an array so it can be used by scikit-learn\n",
    "X = rnp.rec2array(X_rec)\n",
    "print len(X)\n",
    "print X\n",
    "\n",
    "# Create the data labels\n",
    "y = np.ones(len(X))\n",
    "print len(y)"
   ]
  },
  {
   "cell_type": "code",
   "execution_count": 72,
   "metadata": {
    "collapsed": false
   },
   "outputs": [
    {
     "data": {
      "text/plain": [
       "<matplotlib.colorbar.Colorbar instance at 0x7fea53f0eea8>"
      ]
     },
     "execution_count": 72,
     "metadata": {},
     "output_type": "execute_result"
    },
    {
     "data": {
      "image/png": "[encoded data removed]",
      "text/plain": [
       "<matplotlib.figure.Figure at 0x7fea53ff5e90>"
      ]
     },
     "metadata": {},
     "output_type": "display_data"
    }
   ],
   "source": [
    "# Plot the energy of the highest energy cluster in the event\n",
    "cluster_pair_energy_high = X_rec['cluster_pair_energy_high']\n",
    "cluster_pair_energy_low = X_rec['cluster_pair_energy_low']\n",
    "plt.hist2d(cluster_pair_energy_high, cluster_pair_energy_low, 50)\n",
    "plt.colorbar()"
   ]
  },
  {
   "cell_type": "code",
   "execution_count": 67,
   "metadata": {
    "collapsed": false
   },
   "outputs": [
    {
     "data": {
      "text/plain": [
       "(array([  5.,  13.,  12.,  18.,  20.,  19.,  18.,  17.,  13.,  21.,  20.,\n",
       "         19.,  18.,  27.,  22.,  29.,  37.,  42.,  47.,  46.,  30.,  17.,\n",
       "         32.,  18.,  15.,  11.,  11.,   9.,   9.,   5.,   7.,   7.,   7.,\n",
       "          7.,   7.,   2.,   4.,   5.,   6.,   5.,   2.,   2.,   6.,   4.,\n",
       "          7.,   4.,   3.,   5.,   1.,   2.]),\n",
       " array([ 0.31511764,  0.35342245,  0.39172726,  0.43003207,  0.46833688,\n",
       "         0.50664169,  0.5449465 ,  0.58325131,  0.62155612,  0.65986093,\n",
       "         0.69816574,  0.73647055,  0.77477536,  0.81308017,  0.85138498,\n",
       "         0.88968979,  0.9279946 ,  0.96629941,  1.00460422,  1.04290903,\n",
       "         1.08121383,  1.11951864,  1.15782345,  1.19612826,  1.23443307,\n",
       "         1.27273788,  1.31104269,  1.3493475 ,  1.38765231,  1.42595712,\n",
       "         1.46426193,  1.50256674,  1.54087155,  1.57917636,  1.61748117,\n",
       "         1.65578598,  1.69409079,  1.7323956 ,  1.77070041,  1.80900522,\n",
       "         1.84731003,  1.88561484,  1.92391965,  1.96222446,  2.00052927,\n",
       "         2.03883408,  2.07713889,  2.11544369,  2.1537485 ,  2.19205331,\n",
       "         2.23035812]),\n",
       " <a list of 50 Patch objects>)"
      ]
     },
     "execution_count": 67,
     "metadata": {},
     "output_type": "execute_result"
    },
    {
     "data": {
      "image/png": "[encoded data removed]",
      "text/plain": [
       "<matplotlib.figure.Figure at 0x7fea5467ea90>"
      ]
     },
     "metadata": {},
     "output_type": "display_data"
    }
   ],
   "source": [
    "cluster_pair_energy_sum = cluster_pair_energy_high + cluster_pair_energy_low\n",
    "plt.hist(cluster_pair_energy_sum, 50)"
   ]
  },
  {
   "cell_type": "code",
   "execution_count": 85,
   "metadata": {
    "collapsed": false
   },
   "outputs": [
    {
     "data": {
      "text/plain": [
       "<matplotlib.colorbar.Colorbar instance at 0x7fea52c89a28>"
      ]
     },
     "execution_count": 85,
     "metadata": {},
     "output_type": "execute_result"
    },
    {
     "data": {
      "image/png": "[encoded data removed]",
      "text/plain": [
       "<matplotlib.figure.Figure at 0x7fea5310f0d0>"
      ]
     },
     "metadata": {},
     "output_type": "display_data"
    }
   ],
   "source": [
    "cluster_pair_energy_high_x = X_rec['cluster_pair_energy_high_x']\n",
    "cluster_pair_energy_low_x = X_rec['cluster_pair_energy_low_x']\n",
    "plt.hist2d(cluster_pair_energy_high_x, cluster_pair_energy_low_x, 50)\n",
    "plt.colorbar()"
   ]
  },
  {
   "cell_type": "markdown",
   "metadata": {},
   "source": [
    "# Preprocessing Background Monte Carlo Files\n",
    "\n",
    "The beam-tri background that will be used in training the classifier will be preprocessed in a manner similar to the pure Moller signal sample described above.  However, because a beam-tri sample without Mollers does not exist, it will also be required that the energy of one of the clusters in a pair have an energy greater than 0.8 GeV. This assures that only background events are being tagged as such."
   ]
  },
  {
   "cell_type": "code",
   "execution_count": 86,
   "metadata": {
    "collapsed": false
   },
   "outputs": [
    {
     "ename": "ImportError",
     "evalue": "No module named MollerBkgPreprocessor",
     "output_type": "error",
     "traceback": [
      "\u001b[1;31m---------------------------------------------------------------------------\u001b[0m",
      "\u001b[1;31mImportError\u001b[0m                               Traceback (most recent call last)",
      "\u001b[1;32m<ipython-input-86-22c04218f0fc>\u001b[0m in \u001b[0;36m<module>\u001b[1;34m()\u001b[0m\n\u001b[0;32m      1\u001b[0m \u001b[1;31m# The module that will be used to preprocess the background file\u001b[0m\u001b[1;33m\u001b[0m\u001b[1;33m\u001b[0m\u001b[0m\n\u001b[1;32m----> 2\u001b[1;33m \u001b[1;32mimport\u001b[0m \u001b[0mMollerBkgPreprocessor\u001b[0m \u001b[1;32mas\u001b[0m \u001b[0mmpbkg\u001b[0m\u001b[1;33m\u001b[0m\u001b[0m\n\u001b[0m\u001b[0;32m      3\u001b[0m \u001b[1;33m\u001b[0m\u001b[0m\n\u001b[0;32m      4\u001b[0m \u001b[1;31m#\u001b[0m\u001b[1;33m\u001b[0m\u001b[1;33m\u001b[0m\u001b[0m\n\u001b[0;32m      5\u001b[0m \u001b[0mbkg_preprocessor\u001b[0m \u001b[1;33m=\u001b[0m \u001b[0mmpbkg\u001b[0m\u001b[1;33m.\u001b[0m\u001b[0mMollerBkgPreprocessor\u001b[0m\u001b[1;33m(\u001b[0m\u001b[1;33m)\u001b[0m\u001b[1;33m\u001b[0m\u001b[0m\n",
      "\u001b[1;31mImportError\u001b[0m: No module named MollerBkgPreprocessor"
     ]
    }
   ],
   "source": [
    "# The module that will be used to preprocess the background file\n",
    "import MollerBkgPreprocessor as mpbkg\n",
    "\n",
    "#\n",
    "bkg_preprocessor = mpbkg.MollerBkgPreprocessor()\n",
    "bkg_preprocessor.preprocess(\"/home/omoreno/work/hps/data/engrun2015/pass2/mc_1pt05/dst/beam_tri/egsv3-triv2-g4v1_s2d6_HPS-EngRun2015-Nominal-v3_3.4.0_singles1_1.root\")"
   ]
  },
  {
   "cell_type": "markdown",
   "metadata": {},
   "source": [
    "# Background"
   ]
  },
  {
   "cell_type": "code",
   "execution_count": 76,
   "metadata": {
    "collapsed": false
   },
   "outputs": [
    {
     "name": "stdout",
     "output_type": "stream",
     "text": [
      "713\n",
      "[[   0.93755502    1.03832614  -41.20615387  -60.71886063]\n",
      " [   0.18132339    1.03695023   39.65115738  -38.87403107]\n",
      " [   0.48569825    0.46937919  -96.98955536  -80.80778503]\n",
      " ..., \n",
      " [   0.2841346     0.61386228  -15.7781744    13.17656803]\n",
      " [   0.15361139    0.35489503 -150.6410675    47.54259109]\n",
      " [   0.44935456    0.58948928  -74.58401489  -85.93288422]]\n",
      "713\n"
     ]
    }
   ],
   "source": [
    "# Open a ROOT file and create a record array out of the ROOT tree\n",
    "X_bkg_rec = rnp.root2array(\"egsv3-triv2-g4v1_s2d6_HPS-EngRun2015-Nominal-v3_3.4.0_singles1_1_preprocessed_bkg.root\")\n",
    "\n",
    "# Convert the data into an array so it can be used by scikit-learn\n",
    "X_bkg = rnp.rec2array(X_rec)\n",
    "print len(X_bkg)\n",
    "print X_bkg\n",
    "\n",
    "# Create the data labels\n",
    "y_bkg = np.zeros(len(X_bkg))\n",
    "print len(y_bkg)"
   ]
  },
  {
   "cell_type": "code",
   "execution_count": 77,
   "metadata": {
    "collapsed": false
   },
   "outputs": [
    {
     "data": {
      "text/plain": [
       "<matplotlib.colorbar.Colorbar instance at 0x7fea539291b8>"
      ]
     },
     "execution_count": 77,
     "metadata": {},
     "output_type": "execute_result"
    },
    {
     "data": {
      "image/png": "[encoded data removed]",
      "text/plain": [
       "<matplotlib.figure.Figure at 0x7fea53aee990>"
      ]
     },
     "metadata": {},
     "output_type": "display_data"
    }
   ],
   "source": [
    "# Plot the energy of the highest energy cluster in the event\n",
    "cluster_pair_energy_high = X_bkg_rec['cluster_pair_energy_high']\n",
    "cluster_pair_energy_low = X_bkg_rec['cluster_pair_energy_low']\n",
    "plt.hist2d(cluster_pair_energy_high, cluster_pair_energy_low, 50)\n",
    "plt.colorbar()"
   ]
  },
  {
   "cell_type": "code",
   "execution_count": 78,
   "metadata": {
    "collapsed": false
   },
   "outputs": [
    {
     "data": {
      "text/plain": [
       "(array([  1.,   2.,   0.,   1.,   0.,   3.,   2.,   0.,   2.,   8.,   8.,\n",
       "          5.,   7.,   6.,   9.,   5.,   2.,   7.,   4.,   4.,   6.,   9.,\n",
       "          3.,   3.,   2.,   0.,   2.,   3.,   2.,   4.,   2.,   4.,   7.,\n",
       "          6.,   4.,   6.,  12.,  10.,   7.,   7.,   2.,   1.,   0.,   1.,\n",
       "          1.,   0.,   1.,   0.,   0.,   1.]),\n",
       " array([ 0.48854348,  0.52907141,  0.56959935,  0.61012728,  0.65065521,\n",
       "         0.69118315,  0.73171108,  0.77223901,  0.81276695,  0.85329488,\n",
       "         0.89382281,  0.93435075,  0.97487868,  1.01540661,  1.05593455,\n",
       "         1.09646248,  1.13699041,  1.17751835,  1.21804628,  1.25857421,\n",
       "         1.29910215,  1.33963008,  1.38015801,  1.42068595,  1.46121388,\n",
       "         1.50174181,  1.54226974,  1.58279768,  1.62332561,  1.66385354,\n",
       "         1.70438148,  1.74490941,  1.78543734,  1.82596528,  1.86649321,\n",
       "         1.90702114,  1.94754908,  1.98807701,  2.02860494,  2.06913288,\n",
       "         2.10966081,  2.15018874,  2.19071668,  2.23124461,  2.27177254,\n",
       "         2.31230048,  2.35282841,  2.39335634,  2.43388428,  2.47441221,\n",
       "         2.51494014]),\n",
       " <a list of 50 Patch objects>)"
      ]
     },
     "execution_count": 78,
     "metadata": {},
     "output_type": "execute_result"
    },
    {
     "data": {
      "image/png": "[encoded data removed]",
      "text/plain": [
       "<matplotlib.figure.Figure at 0x7fea53a87310>"
      ]
     },
     "metadata": {},
     "output_type": "display_data"
    }
   ],
   "source": [
    "cluster_pair_energy_sum = cluster_pair_energy_high + cluster_pair_energy_low\n",
    "plt.hist(cluster_pair_energy_sum, 50)"
   ]
  },
  {
   "cell_type": "code",
   "execution_count": 81,
   "metadata": {
    "collapsed": false
   },
   "outputs": [
    {
     "data": {
      "text/plain": [
       "(array([  2.,   3.,   4.,   6.,   4.,   3.,   1.,   2.,   7.,   1.,   5.,\n",
       "          5.,   1.,   3.,   1.,   3.,   1.,   2.,   2.,   6.,   7.,  11.,\n",
       "          8.,   6.,   6.,   5.,   8.,  15.,  11.,   9.,  10.,   6.,   6.,\n",
       "          2.,   2.,   3.,   1.,   1.,   0.,   0.,   0.,   1.,   0.,   0.,\n",
       "          0.,   0.,   1.,   0.,   0.,   1.]),\n",
       " array([-0.9269295 , -0.894695  , -0.8624605 , -0.83022599, -0.79799149,\n",
       "        -0.76575699, -0.73352248, -0.70128798, -0.66905347, -0.63681897,\n",
       "        -0.60458447, -0.57234996, -0.54011546, -0.50788096, -0.47564645,\n",
       "        -0.44341195, -0.41117745, -0.37894294, -0.34670844, -0.31447393,\n",
       "        -0.28223943, -0.25000493, -0.21777042, -0.18553592, -0.15330142,\n",
       "        -0.12106691, -0.08883241, -0.05659791, -0.0243634 ,  0.0078711 ,\n",
       "         0.04010561,  0.07234011,  0.10457461,  0.13680912,  0.16904362,\n",
       "         0.20127812,  0.23351263,  0.26574713,  0.29798163,  0.33021614,\n",
       "         0.36245064,  0.39468515,  0.42691965,  0.45915415,  0.49138866,\n",
       "         0.52362316,  0.55585766,  0.58809217,  0.62032667,  0.65256117,\n",
       "         0.68479568]),\n",
       " <a list of 50 Patch objects>)"
      ]
     },
     "execution_count": 81,
     "metadata": {},
     "output_type": "execute_result"
    },
    {
     "data": {
      "image/png": "[encoded data removed]",
      "text/plain": [
       "<matplotlib.figure.Figure at 0x7fea53c25990>"
      ]
     },
     "metadata": {},
     "output_type": "display_data"
    }
   ],
   "source": [
    "cluster_pair_energy_diff = cluster_pair_energy_high - cluster_pair_energy_low\n",
    "plt.hist(cluster_pair_energy_diff, 50)"
   ]
  },
  {
   "cell_type": "code",
   "execution_count": 80,
   "metadata": {
    "collapsed": false
   },
   "outputs": [
    {
     "data": {
      "text/plain": [
       "<matplotlib.colorbar.Colorbar instance at 0x7fea53544320>"
      ]
     },
     "execution_count": 80,
     "metadata": {},
     "output_type": "execute_result"
    },
    {
     "data": {
      "image/png": "[encoded data removed]",
      "text/plain": [
       "<matplotlib.figure.Figure at 0x7fea53891e10>"
      ]
     },
     "metadata": {},
     "output_type": "display_data"
    }
   ],
   "source": [
    "plt.hist2d(cluster_pair_energy_high_x, cluster_pair_energy_sum, 50)\n",
    "plt.colorbar()"
   ]
  },
  {
   "cell_type": "code",
   "execution_count": 75,
   "metadata": {
    "collapsed": false
   },
   "outputs": [
    {
     "data": {
      "text/plain": [
       "<matplotlib.colorbar.Colorbar instance at 0x7fea53aabf80>"
      ]
     },
     "execution_count": 75,
     "metadata": {},
     "output_type": "execute_result"
    },
    {
     "data": {
      "image/png": "[encoded data removed]",
      "text/plain": [
       "<matplotlib.figure.Figure at 0x7fea53d3e350>"
      ]
     },
     "metadata": {},
     "output_type": "display_data"
    }
   ],
   "source": [
    "cluster_pair_energy_high_x = X_bkg_rec['cluster_pair_energy_high_x']\n",
    "cluster_pair_energy_low_x = X_bkg_rec['cluster_pair_energy_low_x']\n",
    "plt.hist2d(cluster_pair_energy_high_x, cluster_pair_energy_low_x, 50)\n",
    "plt.colorbar()"
   ]
  },
  {
   "cell_type": "code",
   "execution_count": 83,
   "metadata": {
    "collapsed": false
   },
   "outputs": [
    {
     "data": {
      "text/plain": [
       "(array([  1.,   0.,   0.,   0.,   0.,   0.,   0.,   0.,   0.,   0.,   0.,\n",
       "          0.,   0.,   1.,   0.,   2.,   2.,   3.,   1.,   6.,  11.,  14.,\n",
       "         10.,   9.,   0.,   0.,   2.,   2.,   5.,   4.,   6.,  10.,  14.,\n",
       "         12.,   7.,  14.,  12.,   8.,   5.,   4.,   5.,   2.,   1.,   1.,\n",
       "          3.,   0.,   2.,   1.,   0.,   2.]),\n",
       " array([-378.01903534, -368.00055558, -357.98207581, -347.96359605,\n",
       "        -337.94511629, -327.92663652, -317.90815676, -307.889677  ,\n",
       "        -297.87119723, -287.85271747, -277.83423771, -267.81575794,\n",
       "        -257.79727818, -247.77879842, -237.76031865, -227.74183889,\n",
       "        -217.72335913, -207.70487936, -197.6863996 , -187.66791984,\n",
       "        -177.64944007, -167.63096031, -157.61248055, -147.59400078,\n",
       "        -137.57552102, -127.55704126, -117.53856149, -107.52008173,\n",
       "         -97.50160197,  -87.4831222 ,  -77.46464244,  -67.44616268,\n",
       "         -57.42768291,  -47.40920315,  -37.39072339,  -27.37224362,\n",
       "         -17.35376386,   -7.3352841 ,    2.68319566,   12.70167543,\n",
       "          22.72015519,   32.73863495,   42.75711472,   52.77559448,\n",
       "          62.79407424,   72.81255401,   82.83103377,   92.84951353,\n",
       "         102.8679933 ,  112.88647306,  122.90495282]),\n",
       " <a list of 50 Patch objects>)"
      ]
     },
     "execution_count": 83,
     "metadata": {},
     "output_type": "execute_result"
    },
    {
     "data": {
      "image/png": "[encoded data removed]",
      "text/plain": [
       "<matplotlib.figure.Figure at 0x7fea5314ccd0>"
      ]
     },
     "metadata": {},
     "output_type": "display_data"
    }
   ],
   "source": [
    "cluster_x_sum = cluster_pair_energy_high_x + cluster_pair_energy_low_x\n",
    "plt.hist(cluster_x_sum, 50)"
   ]
  },
  {
   "cell_type": "code",
   "execution_count": 84,
   "metadata": {
    "collapsed": false
   },
   "outputs": [
    {
     "data": {
      "text/plain": [
       "(array([  1.,   0.,   1.,   0.,   0.,   0.,   3.,   0.,   2.,   2.,   3.,\n",
       "          1.,   1.,   2.,   4.,   4.,   3.,   6.,   4.,  10.,   5.,   6.,\n",
       "          4.,   7.,  11.,  15.,  10.,  14.,   5.,  10.,   7.,   8.,   2.,\n",
       "          6.,   6.,   5.,   3.,   2.,   0.,   0.,   1.,   2.,   1.,   1.,\n",
       "          2.,   0.,   0.,   0.,   0.,   2.]),\n",
       " array([ -2.03708267e+02,  -1.96165293e+02,  -1.88622318e+02,\n",
       "         -1.81079343e+02,  -1.73536369e+02,  -1.65993394e+02,\n",
       "         -1.58450419e+02,  -1.50907445e+02,  -1.43364470e+02,\n",
       "         -1.35821496e+02,  -1.28278521e+02,  -1.20735546e+02,\n",
       "         -1.13192572e+02,  -1.05649597e+02,  -9.81066225e+01,\n",
       "         -9.05636478e+01,  -8.30206732e+01,  -7.54776986e+01,\n",
       "         -6.79347240e+01,  -6.03917493e+01,  -5.28487747e+01,\n",
       "         -4.53058001e+01,  -3.77628255e+01,  -3.02198508e+01,\n",
       "         -2.26768762e+01,  -1.51339016e+01,  -7.59092697e+00,\n",
       "         -4.79523468e-02,   7.49502228e+00,   1.50379969e+01,\n",
       "          2.25809715e+01,   3.01239462e+01,   3.76669208e+01,\n",
       "          4.52098954e+01,   5.27528700e+01,   6.02958447e+01,\n",
       "          6.78388193e+01,   7.53817939e+01,   8.29247685e+01,\n",
       "          9.04677431e+01,   9.80107178e+01,   1.05553692e+02,\n",
       "          1.13096667e+02,   1.20639642e+02,   1.28182616e+02,\n",
       "          1.35725591e+02,   1.43268566e+02,   1.50811540e+02,\n",
       "          1.58354515e+02,   1.65897489e+02,   1.73440464e+02]),\n",
       " <a list of 50 Patch objects>)"
      ]
     },
     "execution_count": 84,
     "metadata": {},
     "output_type": "execute_result"
    },
    {
     "data": {
      "image/png": "[encoded data removed]",
      "text/plain": [
       "<matplotlib.figure.Figure at 0x7fea5314c5d0>"
      ]
     },
     "metadata": {},
     "output_type": "display_data"
    }
   ],
   "source": [
    "cluster_x_diff = cluster_pair_energy_high_x - cluster_pair_energy_low_x\n",
    "plt.hist(cluster_x_diff, 50)"
   ]
  },
  {
   "cell_type": "markdown",
   "metadata": {},
   "source": [
    "# Decision Tree"
   ]
  },
  {
   "cell_type": "code",
   "execution_count": 53,
   "metadata": {
    "collapsed": true
   },
   "outputs": [],
   "source": [
    "# Merge the signal and background\n",
    "X = np.concatenate((X, X_bkg), axis=0)"
   ]
  },
  {
   "cell_type": "code",
   "execution_count": 55,
   "metadata": {
    "collapsed": false
   },
   "outputs": [],
   "source": [
    "y = np.concatenate((y, y_bkg), axis=0)"
   ]
  },
  {
   "cell_type": "code",
   "execution_count": 56,
   "metadata": {
    "collapsed": true
   },
   "outputs": [],
   "source": [
    "from sklearn import tree"
   ]
  },
  {
   "cell_type": "code",
   "execution_count": 57,
   "metadata": {
    "collapsed": true
   },
   "outputs": [],
   "source": [
    "tree_clf = tree.DecisionTreeClassifier()"
   ]
  },
  {
   "cell_type": "code",
   "execution_count": 58,
   "metadata": {
    "collapsed": false
   },
   "outputs": [
    {
     "data": {
      "text/plain": [
       "DecisionTreeClassifier(class_weight=None, criterion='gini', max_depth=None,\n",
       "            max_features=None, max_leaf_nodes=None, min_samples_leaf=1,\n",
       "            min_samples_split=2, min_weight_fraction_leaf=0.0,\n",
       "            random_state=None, splitter='best')"
      ]
     },
     "execution_count": 58,
     "metadata": {},
     "output_type": "execute_result"
    }
   ],
   "source": [
    "tree_clf.fit(X, y)"
   ]
  },
  {
   "cell_type": "markdown",
   "metadata": {},
   "source": [
    "# Neural Network"
   ]
  },
  {
   "cell_type": "code",
   "execution_count": null,
   "metadata": {
    "collapsed": true
   },
   "outputs": [],
   "source": []
  }
 ],
 "metadata": {
  "kernelspec": {
   "display_name": "Python 2",
   "language": "python",
   "name": "python2"
  },
  "language_info": {
   "codemirror_mode": {
    "name": "ipython",
    "version": 2
   },
   "file_extension": ".py",
   "mimetype": "text/x-python",
   "name": "python",
   "nbconvert_exporter": "python",
   "pygments_lexer": "ipython2",
   "version": "2.7.10"
  }
 },
 "nbformat": 4,
 "nbformat_minor": 0
}
